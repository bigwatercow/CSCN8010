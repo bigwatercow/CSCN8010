{
 "cells": [
  {
   "cell_type": "code",
   "execution_count": 1,
   "metadata": {},
   "outputs": [
    {
     "ename": "ModuleNotFoundError",
     "evalue": "No module named 'matplotlib'",
     "output_type": "error",
     "traceback": [
      "\u001b[1;31m---------------------------------------------------------------------------\u001b[0m",
      "\u001b[1;31mModuleNotFoundError\u001b[0m                       Traceback (most recent call last)",
      "Cell \u001b[1;32mIn[1], line 2\u001b[0m\n\u001b[0;32m      1\u001b[0m \u001b[39mimport\u001b[39;00m \u001b[39mnumpy\u001b[39;00m \u001b[39mas\u001b[39;00m \u001b[39mnp\u001b[39;00m\n\u001b[1;32m----> 2\u001b[0m \u001b[39mimport\u001b[39;00m \u001b[39mmatplotlib\u001b[39;00m\u001b[39m.\u001b[39;00m\u001b[39mpyplot\u001b[39;00m \u001b[39mas\u001b[39;00m \u001b[39mplt\u001b[39;00m\n\u001b[0;32m      3\u001b[0m \u001b[39mfrom\u001b[39;00m \u001b[39mmatplotlib\u001b[39;00m\u001b[39m.\u001b[39;00m\u001b[39manimation\u001b[39;00m \u001b[39mimport\u001b[39;00m FuncAnimation\n\u001b[0;32m      4\u001b[0m \u001b[39mfrom\u001b[39;00m \u001b[39mIPython\u001b[39;00m\u001b[39m.\u001b[39;00m\u001b[39mdisplay\u001b[39;00m \u001b[39mimport\u001b[39;00m HTML\n",
      "\u001b[1;31mModuleNotFoundError\u001b[0m: No module named 'matplotlib'"
     ]
    }
   ],
   "source": [
    "import numpy as np\n",
    "import matplotlib.pyplot as plt\n",
    "from matplotlib.animation import FuncAnimation\n",
    "from IPython.display import HTML\n",
    "\n",
    "# Function to minimize (quadratic function)\n",
    "f = lambda x: x**2 + 2*x + 5\n",
    "\n",
    "# Derivative of the function\n",
    "df = lambda x: 2*x + 2\n",
    "\n",
    "# Gradient Descent function\n",
    "def gradient_descent(prev_x, learning_rate, epoch):\n",
    "    \"\"\"\n",
    "    This is a function to minimize a function using gradient descent.\n",
    "    The values returned are the updated x and y values (not the gradient value)\n",
    "    \"\"\"\n",
    "    x_gd = []\n",
    "    y_gd = []\n",
    "    \n",
    "    x_gd.append(prev_x)\n",
    "    y_gd.append(f(prev_x))\n",
    "\n",
    "    # begin the loops to update x and y\n",
    "    for i in range(epoch):\n",
    "        current_x = prev_x - learning_rate * df(prev_x)\n",
    "        x_gd.append(current_x)\n",
    "        y_gd.append(f(current_x))\n",
    "\n",
    "        # update previous_x\n",
    "        prev_x = current_x\n",
    "\n",
    "    return x_gd, y_gd\n",
    "\n",
    "# Initialize x0 and learning rate\n",
    "x0 = -5\n",
    "learning_rate = 0.15\n",
    "epochs = 15\n",
    "\n",
    "x = np.linspace(-10, 3, 500)\n",
    "y = f(x)\n",
    "\n",
    "# Getting the updated values\n",
    "x_gd, y_gd = gradient_descent(x0, learning_rate, epochs)\n",
    "\n",
    "fig, ax = plt.subplots()\n",
    "line, = ax.plot(x, y, 'r', label = 'y = x^2 + 2x + 5')\n",
    "point, = ax.plot([], [], 'bo', label = 'Gradient descent')\n",
    "value_display = ax.text(0.02, 0.02, '', transform=ax.transAxes)\n",
    "\n",
    "def init():\n",
    "    ax.set_xlim(-10, 3)\n",
    "    ax.set_ylim(0, 40)\n",
    "    ax.set_xlabel('x')\n",
    "    ax.set_ylabel('f(x)')\n",
    "    ax.legend(loc = 'best')\n",
    "    \n",
    "    point.set_data([], [])\n",
    "    value_display.set_text('')\n",
    "\n",
    "    return line, point, value_display\n",
    "\n",
    "def animate(i):\n",
    "    point.set_data([x_gd[i]], [y_gd[i]])\n",
    "    value_display.set_text('Min = ' + str(y_gd[i]))\n",
    "\n",
    "    return point, value_display\n",
    "\n",
    "ani = FuncAnimation(fig, animate, init_func=init, frames=len(x_gd), interval=1000, \n",
    "                    repeat_delay=5, blit=True)\n",
    "\n",
    "plt.close()  # call close() to avoid displaying the static plot\n",
    "\n",
    "HTML(ani.to_jshtml())\n"
   ]
  },
  {
   "attachments": {},
   "cell_type": "markdown",
   "metadata": {},
   "source": [
    "### $L(w_0) = (w_0)^2$"
   ]
  },
  {
   "attachments": {},
   "cell_type": "markdown",
   "metadata": {},
   "source": [
    "The derivative is: \n",
    "\n",
    "$2 \\cdot (w_0)^1$"
   ]
  },
  {
   "attachments": {},
   "cell_type": "markdown",
   "metadata": {},
   "source": [
    "$f(x) = x^2 + 2 \\cdot x + 5$"
   ]
  },
  {
   "attachments": {},
   "cell_type": "markdown",
   "metadata": {},
   "source": [
    "The derivative of $f$ is:\n",
    "$ 2x + 2$"
   ]
  },
  {
   "attachments": {},
   "cell_type": "markdown",
   "metadata": {},
   "source": [
    "Let's calculate the derivative at $x=-4$:"
   ]
  },
  {
   "attachments": {},
   "cell_type": "markdown",
   "metadata": {},
   "source": [
    "We need to plug into the derivative that value:"
   ]
  },
  {
   "attachments": {},
   "cell_type": "markdown",
   "metadata": {},
   "source": [
    "$2 \\cdot (-4) + 2 = -6 $"
   ]
  },
  {
   "cell_type": "markdown",
   "metadata": {},
   "source": []
  }
 ],
 "metadata": {
  "kernelspec": {
   "display_name": "CSCN8010_classic_ml",
   "language": "python",
   "name": "python3"
  },
  "language_info": {
   "codemirror_mode": {
    "name": "ipython",
    "version": 3
   },
   "file_extension": ".py",
   "mimetype": "text/x-python",
   "name": "python",
   "nbconvert_exporter": "python",
   "pygments_lexer": "ipython3",
   "version": "3.11.3"
  },
  "orig_nbformat": 4
 },
 "nbformat": 4,
 "nbformat_minor": 2
}
